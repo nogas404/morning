{
 "cells": [
  {
   "cell_type": "code",
   "execution_count": 1,
   "metadata": {},
   "outputs": [],
   "source": [
    "import numpy as np\n",
    "import pandas as pd\n",
    "import matplotlib.pyplot as plt\n",
    "import requests"
   ]
  },
  {
   "cell_type": "code",
   "execution_count": 2,
   "metadata": {},
   "outputs": [],
   "source": [
    "# VARS\n",
    "\n",
    "period_of_time = 7 # weekly\n",
    "country = 'Poland'\n"
   ]
  },
  {
   "cell_type": "code",
   "execution_count": 3,
   "metadata": {},
   "outputs": [],
   "source": [
    "# downloading data\n",
    "\n",
    "covid_data = requests.get(\n",
    "    'https://opendata.ecdc.europa.eu/covid19/testing/csv/data.csv')\n",
    "\n",
    "with open('covid_data.csv', 'wb') as f:\n",
    "    f.write(covid_data.content)\n"
   ]
  },
  {
   "cell_type": "code",
   "execution_count": 4,
   "metadata": {},
   "outputs": [
    {
     "data": {
      "text/html": [
       "<div>\n",
       "<style scoped>\n",
       "    .dataframe tbody tr th:only-of-type {\n",
       "        vertical-align: middle;\n",
       "    }\n",
       "\n",
       "    .dataframe tbody tr th {\n",
       "        vertical-align: top;\n",
       "    }\n",
       "\n",
       "    .dataframe thead th {\n",
       "        text-align: right;\n",
       "    }\n",
       "</style>\n",
       "<table border=\"1\" class=\"dataframe\">\n",
       "  <thead>\n",
       "    <tr style=\"text-align: right;\">\n",
       "      <th></th>\n",
       "      <th>country</th>\n",
       "      <th>year_week</th>\n",
       "      <th>level</th>\n",
       "      <th>new_cases</th>\n",
       "      <th>tests_done</th>\n",
       "      <th>cases_divided_by_tests</th>\n",
       "    </tr>\n",
       "  </thead>\n",
       "  <tbody>\n",
       "    <tr>\n",
       "      <th>3713</th>\n",
       "      <td>Poland</td>\n",
       "      <td>2022-W44</td>\n",
       "      <td>national</td>\n",
       "      <td>3471.0</td>\n",
       "      <td>39532.0</td>\n",
       "      <td>0.087802</td>\n",
       "    </tr>\n",
       "    <tr>\n",
       "      <th>3714</th>\n",
       "      <td>Poland</td>\n",
       "      <td>2022-W45</td>\n",
       "      <td>national</td>\n",
       "      <td>2493.0</td>\n",
       "      <td>34737.0</td>\n",
       "      <td>0.071768</td>\n",
       "    </tr>\n",
       "    <tr>\n",
       "      <th>3715</th>\n",
       "      <td>Poland</td>\n",
       "      <td>2022-W46</td>\n",
       "      <td>national</td>\n",
       "      <td>2531.0</td>\n",
       "      <td>37426.0</td>\n",
       "      <td>0.067627</td>\n",
       "    </tr>\n",
       "    <tr>\n",
       "      <th>3716</th>\n",
       "      <td>Poland</td>\n",
       "      <td>2022-W47</td>\n",
       "      <td>national</td>\n",
       "      <td>2480.0</td>\n",
       "      <td>36144.0</td>\n",
       "      <td>0.068614</td>\n",
       "    </tr>\n",
       "    <tr>\n",
       "      <th>3717</th>\n",
       "      <td>Poland</td>\n",
       "      <td>2022-W48</td>\n",
       "      <td>national</td>\n",
       "      <td>3104.0</td>\n",
       "      <td>37322.0</td>\n",
       "      <td>0.083168</td>\n",
       "    </tr>\n",
       "    <tr>\n",
       "      <th>3718</th>\n",
       "      <td>Poland</td>\n",
       "      <td>2022-W49</td>\n",
       "      <td>national</td>\n",
       "      <td>3191.0</td>\n",
       "      <td>38841.0</td>\n",
       "      <td>0.082155</td>\n",
       "    </tr>\n",
       "    <tr>\n",
       "      <th>3719</th>\n",
       "      <td>Poland</td>\n",
       "      <td>2022-W50</td>\n",
       "      <td>national</td>\n",
       "      <td>4022.0</td>\n",
       "      <td>45621.0</td>\n",
       "      <td>0.088161</td>\n",
       "    </tr>\n",
       "  </tbody>\n",
       "</table>\n",
       "</div>"
      ],
      "text/plain": [
       "     country year_week     level  new_cases  tests_done  \\\n",
       "3713  Poland  2022-W44  national     3471.0     39532.0   \n",
       "3714  Poland  2022-W45  national     2493.0     34737.0   \n",
       "3715  Poland  2022-W46  national     2531.0     37426.0   \n",
       "3716  Poland  2022-W47  national     2480.0     36144.0   \n",
       "3717  Poland  2022-W48  national     3104.0     37322.0   \n",
       "3718  Poland  2022-W49  national     3191.0     38841.0   \n",
       "3719  Poland  2022-W50  national     4022.0     45621.0   \n",
       "\n",
       "      cases_divided_by_tests  \n",
       "3713                0.087802  \n",
       "3714                0.071768  \n",
       "3715                0.067627  \n",
       "3716                0.068614  \n",
       "3717                0.083168  \n",
       "3718                0.082155  \n",
       "3719                0.088161  "
      ]
     },
     "execution_count": 4,
     "metadata": {},
     "output_type": "execute_result"
    }
   ],
   "source": [
    "df = pd.read_csv('covid_data.csv')\n",
    "df = df[['country', 'year_week', 'level', 'new_cases', 'tests_done']]\n",
    "df = df[df.country == f'{country}']\n",
    "df = df.tail(period_of_time)\n",
    "df = df.assign(cases_divided_by_tests = lambda x: (x.new_cases / x.tests_done))\n",
    "df"
   ]
  },
  {
   "cell_type": "code",
   "execution_count": 5,
   "metadata": {},
   "outputs": [
    {
     "name": "stdout",
     "output_type": "stream",
     "text": [
      "time.struct_time(tm_year=2022, tm_mon=12, tm_mday=15, tm_hour=0, tm_min=0, tm_sec=0, tm_wday=3, tm_yday=349, tm_isdst=-1)\n",
      "2022 12 15\n"
     ]
    }
   ],
   "source": [
    "# year_week\n",
    "\n",
    "year_week = df['year_week'].iloc[-1]\n",
    "year_week = year_week.split('-')\n",
    "year: int = int(year_week[0])\n",
    "day = int(year_week[-1][1:]) * 7\n",
    "from time import strptime, strftime\n",
    "from datetime import datetime\n",
    "last_update = strptime(f'{year} {day-1}', '%Y %j')\n",
    "print(last_update)\n",
    "print(last_update.tm_year, last_update.tm_mon, last_update.tm_mday)"
   ]
  },
  {
   "cell_type": "code",
   "execution_count": 6,
   "metadata": {},
   "outputs": [],
   "source": [
    "y1 = df['new_cases']\n",
    "y2 = df['tests_done']\n",
    "y3 = np.arange(0, period_of_time, 1).reshape(period_of_time, 1)\n",
    "x = np.arange(0, period_of_time, 1).reshape(period_of_time, 1)\n",
    "\n",
    "last_week_avg = int(df.tail(1).new_cases/7)\n"
   ]
  },
  {
   "cell_type": "code",
   "execution_count": 7,
   "metadata": {},
   "outputs": [
    {
     "data": {
      "image/png": "[encoded data removed]",
      "text/plain": [
       "<Figure size 640x480 with 1 Axes>"
      ]
     },
     "metadata": {},
     "output_type": "display_data"
    }
   ],
   "source": [
    "# plotting\n",
    "fig, ax = plt.subplots()\n",
    "\n",
    "# getting the data\n",
    "ax.plot(x, y1, '-o', label = 'covid cases')\n",
    "ax.plot(x, y2, '-o', color='orange', label = 'all covid tests')\n",
    "\n",
    "# unhelpful comment of x and y axis\n",
    "plt.ylabel(f'amount')\n",
    "from calendar import month_name\n",
    "last_update_month = month_name[last_update.tm_mon]\n",
    "plt.xlabel(f'data is shown in weeks, last week\\'s average a day was {last_week_avg} cases \\n latest data is from {last_update.tm_mday} {last_update_month}')\n",
    "# setting up a legend\n",
    "ax.legend(loc='lower left')\n",
    "\n",
    "ax.grid()\n",
    "# plot starts at 0\n",
    "plt.ylim(0)\n",
    "plt.savefig('covid_daily.jpeg')\n"
   ]
  },
  {
   "cell_type": "code",
   "execution_count": 8,
   "metadata": {},
   "outputs": [],
   "source": [
    "plt.close()"
   ]
  }
 ],
 "metadata": {
  "kernelspec": {
   "display_name": "env",
   "language": "python",
   "name": "python3"
  },
  "language_info": {
   "codemirror_mode": {
    "name": "ipython",
    "version": 3
   },
   "file_extension": ".py",
   "mimetype": "text/x-python",
   "name": "python",
   "nbconvert_exporter": "python",
   "pygments_lexer": "ipython3",
   "version": "3.11.1"
  },
  "orig_nbformat": 4,
  "vscode": {
   "interpreter": {
    "hash": "99104fc4c39aa7c2658366d3bb3c251951017f1899a087ef3b3c493852f2f391"
   }
  }
 },
 "nbformat": 4,
 "nbformat_minor": 2
}
