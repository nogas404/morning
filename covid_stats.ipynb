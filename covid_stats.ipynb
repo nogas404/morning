{
 "cells": [
  {
   "cell_type": "code",
   "execution_count": 1,
   "metadata": {},
   "outputs": [],
   "source": [
    "import numpy as np\n",
    "import pandas as pd\n",
    "import matplotlib.pyplot as plt\n",
    "import requests"
   ]
  },
  {
   "cell_type": "code",
   "execution_count": 2,
   "metadata": {},
   "outputs": [],
   "source": [
    "# VARS\n",
    "\n",
    "period_of_time = 7 # weekly\n",
    "country = 'Poland'\n"
   ]
  },
  {
   "cell_type": "code",
   "execution_count": 3,
   "metadata": {},
   "outputs": [],
   "source": [
    "# downloading data\n",
    "\n",
    "covid_data = requests.get(\n",
    "    'https://opendata.ecdc.europa.eu/covid19/testing/csv/data.csv')\n",
    "\n",
    "with open('covid_data.csv', 'wb') as f:\n",
    "    f.write(covid_data.content)\n"
   ]
  },
  {
   "cell_type": "code",
   "execution_count": 4,
   "metadata": {},
   "outputs": [
    {
     "data": {
      "text/html": [
       "<div>\n",
       "<style scoped>\n",
       "    .dataframe tbody tr th:only-of-type {\n",
       "        vertical-align: middle;\n",
       "    }\n",
       "\n",
       "    .dataframe tbody tr th {\n",
       "        vertical-align: top;\n",
       "    }\n",
       "\n",
       "    .dataframe thead th {\n",
       "        text-align: right;\n",
       "    }\n",
       "</style>\n",
       "<table border=\"1\" class=\"dataframe\">\n",
       "  <thead>\n",
       "    <tr style=\"text-align: right;\">\n",
       "      <th></th>\n",
       "      <th>country</th>\n",
       "      <th>year_week</th>\n",
       "      <th>level</th>\n",
       "      <th>new_cases</th>\n",
       "      <th>tests_done</th>\n",
       "      <th>cases_divided_by_tests</th>\n",
       "    </tr>\n",
       "  </thead>\n",
       "  <tbody>\n",
       "    <tr>\n",
       "      <th>3497</th>\n",
       "      <td>Poland</td>\n",
       "      <td>2022-W35</td>\n",
       "      <td>national</td>\n",
       "      <td>20183.0</td>\n",
       "      <td>67265.0</td>\n",
       "      <td>0.300052</td>\n",
       "    </tr>\n",
       "    <tr>\n",
       "      <th>3498</th>\n",
       "      <td>Poland</td>\n",
       "      <td>2022-W36</td>\n",
       "      <td>national</td>\n",
       "      <td>25348.0</td>\n",
       "      <td>74602.0</td>\n",
       "      <td>0.339776</td>\n",
       "    </tr>\n",
       "    <tr>\n",
       "      <th>3499</th>\n",
       "      <td>Poland</td>\n",
       "      <td>2022-W37</td>\n",
       "      <td>national</td>\n",
       "      <td>32117.0</td>\n",
       "      <td>92752.0</td>\n",
       "      <td>0.346267</td>\n",
       "    </tr>\n",
       "    <tr>\n",
       "      <th>3500</th>\n",
       "      <td>Poland</td>\n",
       "      <td>2022-W38</td>\n",
       "      <td>national</td>\n",
       "      <td>28685.0</td>\n",
       "      <td>94945.0</td>\n",
       "      <td>0.302122</td>\n",
       "    </tr>\n",
       "    <tr>\n",
       "      <th>3501</th>\n",
       "      <td>Poland</td>\n",
       "      <td>2022-W39</td>\n",
       "      <td>national</td>\n",
       "      <td>23613.0</td>\n",
       "      <td>86244.0</td>\n",
       "      <td>0.273793</td>\n",
       "    </tr>\n",
       "    <tr>\n",
       "      <th>3502</th>\n",
       "      <td>Poland</td>\n",
       "      <td>2022-W40</td>\n",
       "      <td>national</td>\n",
       "      <td>17903.0</td>\n",
       "      <td>78089.0</td>\n",
       "      <td>0.229264</td>\n",
       "    </tr>\n",
       "    <tr>\n",
       "      <th>3503</th>\n",
       "      <td>Poland</td>\n",
       "      <td>2022-W41</td>\n",
       "      <td>national</td>\n",
       "      <td>11490.0</td>\n",
       "      <td>64620.0</td>\n",
       "      <td>0.177809</td>\n",
       "    </tr>\n",
       "  </tbody>\n",
       "</table>\n",
       "</div>"
      ],
      "text/plain": [
       "     country year_week     level  new_cases  tests_done  \\\n",
       "3497  Poland  2022-W35  national    20183.0     67265.0   \n",
       "3498  Poland  2022-W36  national    25348.0     74602.0   \n",
       "3499  Poland  2022-W37  national    32117.0     92752.0   \n",
       "3500  Poland  2022-W38  national    28685.0     94945.0   \n",
       "3501  Poland  2022-W39  national    23613.0     86244.0   \n",
       "3502  Poland  2022-W40  national    17903.0     78089.0   \n",
       "3503  Poland  2022-W41  national    11490.0     64620.0   \n",
       "\n",
       "      cases_divided_by_tests  \n",
       "3497                0.300052  \n",
       "3498                0.339776  \n",
       "3499                0.346267  \n",
       "3500                0.302122  \n",
       "3501                0.273793  \n",
       "3502                0.229264  \n",
       "3503                0.177809  "
      ]
     },
     "execution_count": 4,
     "metadata": {},
     "output_type": "execute_result"
    }
   ],
   "source": [
    "df = pd.read_csv('covid_data.csv')\n",
    "df = df[['country', 'year_week', 'level', 'new_cases', 'tests_done']]\n",
    "df = df[df.country == f'{country}']\n",
    "df = df.tail(period_of_time)\n",
    "df = df.assign(cases_divided_by_tests = lambda x: (x.new_cases / x.tests_done))\n",
    "df"
   ]
  },
  {
   "cell_type": "code",
   "execution_count": 5,
   "metadata": {},
   "outputs": [
    {
     "name": "stdout",
     "output_type": "stream",
     "text": [
      "time.struct_time(tm_year=2022, tm_mon=10, tm_mday=13, tm_hour=0, tm_min=0, tm_sec=0, tm_wday=3, tm_yday=286, tm_isdst=-1)\n",
      "2022 10 13\n"
     ]
    }
   ],
   "source": [
    "# year_week\n",
    "\n",
    "year_week = df['year_week'].iloc[-1]\n",
    "year_week = year_week.split('-')\n",
    "year: int = int(year_week[0])\n",
    "day = int(year_week[-1][1:]) * 7\n",
    "from time import strptime, strftime\n",
    "from datetime import datetime\n",
    "last_update = strptime(f'{year} {day-1}', '%Y %j')\n",
    "print(last_update)\n",
    "print(last_update.tm_year, last_update.tm_mon, last_update.tm_mday)"
   ]
  },
  {
   "cell_type": "code",
   "execution_count": 6,
   "metadata": {},
   "outputs": [],
   "source": [
    "y1 = df['new_cases']\n",
    "y2 = df['tests_done']\n",
    "y3 = np.arange(0, period_of_time, 1).reshape(period_of_time, 1)\n",
    "x = np.arange(0, period_of_time, 1).reshape(period_of_time, 1)\n",
    "\n",
    "last_week_avg = int(df.tail(1).new_cases/7)\n"
   ]
  },
  {
   "cell_type": "code",
   "execution_count": 7,
   "metadata": {},
   "outputs": [
    {
     "data": {
      "image/png": "[encoded data removed]",
      "text/plain": [
       "<Figure size 640x480 with 1 Axes>"
      ]
     },
     "metadata": {},
     "output_type": "display_data"
    }
   ],
   "source": [
    "# plotting\n",
    "fig, ax = plt.subplots()\n",
    "\n",
    "# getting the data\n",
    "ax.plot(x, y1, '-o', label = 'covid cases')\n",
    "ax.plot(x, y2, '-o', color='orange', label = 'all covid tests')\n",
    "\n",
    "# unhelpful comment of x and y axis\n",
    "plt.ylabel(f'amount')\n",
    "from calendar import month_name\n",
    "last_update_month = month_name[last_update.tm_mon]\n",
    "plt.xlabel(f'data is shown in weeks, last week\\'s average a day was {last_week_avg} cases \\n latest data is from {last_update.tm_mday} {last_update_month}')\n",
    "# setting up a legend\n",
    "ax.legend(loc='lower left')\n",
    "\n",
    "ax.grid()\n",
    "# plot starts at 0\n",
    "plt.ylim(0)\n",
    "plt.savefig('covid_daily.jpeg')\n"
   ]
  },
  {
   "cell_type": "code",
   "execution_count": 8,
   "metadata": {},
   "outputs": [],
   "source": [
    "plt.close()"
   ]
  }
 ],
 "metadata": {
  "kernelspec": {
   "display_name": "Python 3.10.7 64-bit",
   "language": "python",
   "name": "python3"
  },
  "language_info": {
   "codemirror_mode": {
    "name": "ipython",
    "version": 3
   },
   "file_extension": ".py",
   "mimetype": "text/x-python",
   "name": "python",
   "nbconvert_exporter": "python",
   "pygments_lexer": "ipython3",
   "version": "3.10.9 (main, Dec  7 2022, 13:47:07) [GCC 12.2.0]"
  },
  "orig_nbformat": 4,
  "vscode": {
   "interpreter": {
    "hash": "916dbcbb3f70747c44a77c7bcd40155683ae19c65e1c03b4aa3499c5328201f1"
   }
  }
 },
 "nbformat": 4,
 "nbformat_minor": 2
}
