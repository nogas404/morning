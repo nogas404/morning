{
 "cells": [
  {
   "cell_type": "code",
   "execution_count": 1,
   "metadata": {},
   "outputs": [],
   "source": [
    "import numpy as np\n",
    "import pandas as pd\n",
    "import matplotlib.pyplot as plt"
   ]
  },
  {
   "cell_type": "code",
   "execution_count": 2,
   "metadata": {},
   "outputs": [],
   "source": [
    "# Downloading latest data\n",
    "\n",
    "import requests\n",
    "\n",
    "\n",
    "new_cases = requests.get('https://raw.githubusercontent.com/owid/covid-19-data/master/public/data/jhu/new_cases.csv')\n",
    "\n",
    "with open('new_cases.csv', 'wb') as f:\n",
    "    f.write(new_cases.content)"
   ]
  },
  {
   "cell_type": "code",
   "execution_count": 3,
   "metadata": {},
   "outputs": [],
   "source": [
    "# VARS\n",
    "\n",
    "period_of_time = 30\n",
    "country = 'Poland'"
   ]
  },
  {
   "cell_type": "code",
   "execution_count": 4,
   "metadata": {},
   "outputs": [],
   "source": [
    "# opening file\n",
    "data = pd.read_csv('new_cases.csv')\n",
    "\n",
    "# extracting data from poland\n",
    "data = data[[country]]\n",
    "\n",
    "# last Y days\n",
    "y = data.tail(period_of_time)"
   ]
  },
  {
   "cell_type": "code",
   "execution_count": 5,
   "metadata": {},
   "outputs": [],
   "source": [
    "# from 0 to X\n",
    "x = np.arange(0, period_of_time, 1).reshape(period_of_time, 1)\n",
    "\n",
    "# making DataFrame from array\n",
    "x = pd.DataFrame(x)"
   ]
  },
  {
   "cell_type": "code",
   "execution_count": 6,
   "metadata": {},
   "outputs": [
    {
     "data": {
      "image/png": "[encoded data removed]",
      "text/plain": [
       "<Figure size 432x288 with 1 Axes>"
      ]
     },
     "metadata": {
      "needs_background": "light"
     },
     "output_type": "display_data"
    }
   ],
   "source": [
    "# plotting\n",
    "\n",
    "plt.ylabel(f'Cases in {country}')\n",
    "plt.xlabel('Days')\n",
    "\n",
    "plt.scatter(x, y)\n",
    "    \n",
    "plt.plot()\n",
    "plt.savefig('cases.jpg')"
   ]
  },
  {
   "cell_type": "code",
   "execution_count": 7,
   "metadata": {},
   "outputs": [],
   "source": [
    "## % of positive tests\n",
    "positive_tests = requests.get('https://raw.githubusercontent.com/owid/covid-19-data/master/public/data/testing/covid-testing-all-observations.csv')\n",
    "with open('positive_tests.csv', 'wb') as f:\n",
    "    f.write(positive_tests.content)"
   ]
  },
  {
   "cell_type": "code",
   "execution_count": 8,
   "metadata": {},
   "outputs": [
    {
     "data": {
      "text/plain": [
       "'2022-04-07'"
      ]
     },
     "execution_count": 8,
     "metadata": {},
     "output_type": "execute_result"
    }
   ],
   "source": [
    "df = pd.read_csv('positive_tests.csv')\n",
    "df = df[['Entity', 'Date', 'Short-term positive rate']]\n",
    "df = df[df.Entity == f'{country} - tests performed']\n",
    "df\n",
    "last_date =df['Date'].tail(1).values[0]"
   ]
  },
  {
   "cell_type": "code",
   "execution_count": 9,
   "metadata": {},
   "outputs": [
    {
     "data": {
      "text/plain": [
       "70642    16.74\n",
       "70643    16.66\n",
       "70644    16.54\n",
       "70645    16.26\n",
       "70646    16.29\n",
       "70647    16.29\n",
       "70648    16.25\n",
       "70649    16.31\n",
       "70650    16.13\n",
       "70651    16.42\n",
       "70652    16.55\n",
       "70653    16.43\n",
       "70654    16.48\n",
       "70655    16.21\n",
       "70656    15.55\n",
       "70657    15.06\n",
       "70658    14.79\n",
       "70659    14.41\n",
       "70660    14.43\n",
       "70661    14.56\n",
       "70662    14.18\n",
       "70663    13.39\n",
       "70664    12.76\n",
       "70665    12.43\n",
       "70666    11.90\n",
       "70667    11.96\n",
       "70668    12.59\n",
       "70669    11.72\n",
       "70670    10.92\n",
       "70671    10.33\n",
       "Name: positive-rate, dtype: float64"
      ]
     },
     "execution_count": 9,
     "metadata": {},
     "output_type": "execute_result"
    }
   ],
   "source": [
    "df = df.rename(columns={'Short-term positive rate':'positive-rate'})\n",
    "# Last Y days\n",
    "y = df.tail(period_of_time)\n",
    "\n",
    "y = y['positive-rate'] * 100"
   ]
  },
  {
   "cell_type": "code",
   "execution_count": 10,
   "metadata": {},
   "outputs": [
    {
     "data": {
      "image/png": "[encoded data removed]",
      "text/plain": [
       "<Figure size 432x288 with 1 Axes>"
      ]
     },
     "metadata": {
      "needs_background": "light"
     },
     "output_type": "display_data"
    }
   ],
   "source": [
    "# plotting\n",
    "\n",
    "plt.ylabel(f'% of positive tests in {country}')\n",
    "plt.xlabel(f'last date - {last_date}')\n",
    "\n",
    "plt.scatter(x, y)\n",
    "    \n",
    "plt.plot()\n",
    "plt.savefig('covid_tests.jpg')"
   ]
  }
 ],
 "metadata": {
  "interpreter": {
   "hash": "e7370f93d1d0cde622a1f8e1c04877d8463912d04d973331ad4851f04de6915a"
  },
  "kernelspec": {
   "display_name": "Python 3.9.9 64-bit",
   "language": "python",
   "name": "python3"
  },
  "language_info": {
   "codemirror_mode": {
    "name": "ipython",
    "version": 3
   },
   "file_extension": ".py",
   "mimetype": "text/x-python",
   "name": "python",
   "nbconvert_exporter": "python",
   "pygments_lexer": "ipython3",
   "version": "3.10.4"
  },
  "orig_nbformat": 4
 },
 "nbformat": 4,
 "nbformat_minor": 2
}
