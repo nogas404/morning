{
 "cells": [
  {
   "cell_type": "code",
   "execution_count": 7,
   "metadata": {},
   "outputs": [],
   "source": [
    "import numpy as np\n",
    "import pandas as pd\n",
    "import matplotlib.pyplot as plt"
   ]
  },
  {
   "cell_type": "code",
   "execution_count": 8,
   "metadata": {},
   "outputs": [],
   "source": [
    "# Downloading latest data\n",
    "\n",
    "import requests\n",
    "\n",
    "\n",
    "new_cases = requests.get('https://raw.githubusercontent.com/owid/covid-19-data/master/public/data/jhu/new_cases.csv')\n",
    "\n",
    "with open('new_cases.csv', 'wb') as f:\n",
    "    f.write(new_cases.content)"
   ]
  },
  {
   "cell_type": "code",
   "execution_count": 9,
   "metadata": {},
   "outputs": [],
   "source": [
    "# VARS\n",
    "\n",
    "period_of_time = 30\n",
    "country = 'Poland'"
   ]
  },
  {
   "cell_type": "code",
   "execution_count": 10,
   "metadata": {},
   "outputs": [],
   "source": [
    "# opening file\n",
    "data = pd.read_csv('new_cases.csv')\n",
    "\n",
    "# extracting data from poland\n",
    "data = data[[country]]\n",
    "\n",
    "# last X days\n",
    "y = data.tail(period_of_time)\n"
   ]
  },
  {
   "cell_type": "code",
   "execution_count": 11,
   "metadata": {},
   "outputs": [],
   "source": [
    "# creating array with X days\n",
    "x = np.arange(0, period_of_time, 1).reshape(period_of_time, 1)\n",
    "\n",
    "# making DataFrame from array\n",
    "x = pd.DataFrame(x)\n"
   ]
  },
  {
   "cell_type": "code",
   "execution_count": 12,
   "metadata": {},
   "outputs": [
    {
     "data": {
      "text/plain": [
       "[]"
      ]
     },
     "execution_count": 12,
     "metadata": {},
     "output_type": "execute_result"
    },
    {
     "data": {
      "image/png": "[encoded data removed]",
      "text/plain": [
       "<Figure size 432x288 with 1 Axes>"
      ]
     },
     "metadata": {
      "needs_background": "light"
     },
     "output_type": "display_data"
    }
   ],
   "source": [
    "# plotting\n",
    "\n",
    "plt.ylabel(f'Cases in {country}')\n",
    "plt.xlabel('Days')\n",
    "\n",
    "plt.scatter(x, y)\n",
    "    \n",
    "plt.plot()\n",
    "plt.savefig('img.png')"
   ]
  }
 ],
 "metadata": {
  "interpreter": {
   "hash": "e7370f93d1d0cde622a1f8e1c04877d8463912d04d973331ad4851f04de6915a"
  },
  "kernelspec": {
   "display_name": "Python 3.9.9 64-bit",
   "language": "python",
   "name": "python3"
  },
  "language_info": {
   "codemirror_mode": {
    "name": "ipython",
    "version": 3
   },
   "file_extension": ".py",
   "mimetype": "text/x-python",
   "name": "python",
   "nbconvert_exporter": "python",
   "pygments_lexer": "ipython3",
   "version": "3.9.9"
  },
  "orig_nbformat": 4
 },
 "nbformat": 4,
 "nbformat_minor": 2
}
